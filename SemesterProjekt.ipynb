{
 "cells": [
  {
   "cell_type": "markdown",
   "metadata": {},
   "source": [
    "Semester Projekt Big Data Engineering"
   ]
  },
  {
   "cell_type": "markdown",
   "metadata": {},
   "source": [
    "Im Zuge des letzten Jahrhunderts hat die Zunahme von C02 in der Atmosphäre enorm zugenommen. Auf der einen Seite konnte dadurch der Lebensstandard von Milliarden Menschen maßgeblich verbessert werden. Auf der anderen Seite führt der vermehrte Ausstoß von C02 aber auch zu höheren Temperaturen und in vielen Ländern zu einer Verschlechterung der Luftqualität.\n",
    "\n",
    "Es soll also geprüft, ob es einen Zusammenhang gibt, der sich auch in den Daten nachweisen lässt und wie stark eben jener Zusammenhang zwischen  Emissionen, durchschnittlicher Temperatur und Luftqualität tatsäclich ist. "
   ]
  },
  {
   "cell_type": "code",
   "execution_count": 3,
   "metadata": {},
   "outputs": [
    {
     "name": "stdout",
     "output_type": "stream",
     "text": [
      "latest: Pulling from bitnami/kafka\n",
      "9bb44e3263fd: Pulling fs layer\n",
      "9bb44e3263fd: Verifying Checksum\n",
      "9bb44e3263fd: Download complete\n",
      "9bb44e3263fd: Pull complete\n",
      "Digest: sha256:ef04381173b1f7cb6cb8bc2f6cde37ad556c6a7cd98d5ce37cb004c3d1f971c9\n",
      "Status: Downloaded newer image for bitnami/kafka:latest\n",
      "docker.io/bitnami/kafka:latest\n"
     ]
    },
    {
     "name": "stderr",
     "output_type": "stream",
     "text": [
      "\n",
      "What's Next?\n",
      "  View a summary of image vulnerabilities and recommendations → docker scout quickview bitnami/kafka:latest\n"
     ]
    }
   ],
   "source": [
    "!docker pull bitnami/kafka:latest\n"
   ]
  },
  {
   "cell_type": "code",
   "execution_count": 8,
   "metadata": {},
   "outputs": [
    {
     "name": "stderr",
     "output_type": "stream",
     "text": [
      " Network big-data-eng_app-tier  Creating\n",
      " Network big-data-eng_app-tier  Created\n",
      " Volume \"big-data-eng_kafka_data\"  Creating\n",
      " Volume \"big-data-eng_kafka_data\"  Created\n",
      " Container big-data-eng-kafka-1  Creating\n",
      " Container big-data-eng-kafka-1  Created\n",
      " Container big-data-eng-kafka-1  Starting\n",
      " Container big-data-eng-kafka-1  Started\n"
     ]
    }
   ],
   "source": [
    "!docker compose up -d"
   ]
  },
  {
   "cell_type": "code",
   "execution_count": 9,
   "metadata": {},
   "outputs": [
    {
     "name": "stderr",
     "output_type": "stream",
     "text": [
      " Container big-data-eng-kafka-1  Stopping\n",
      " Container big-data-eng-kafka-1  Stopped\n",
      " Container big-data-eng-kafka-1  Removing\n",
      " Container big-data-eng-kafka-1  Removed\n",
      " Network big-data-eng_app-tier  Removing\n",
      " Network big-data-eng_app-tier  Removed\n"
     ]
    }
   ],
   "source": [
    "!docker compose down"
   ]
  },
  {
   "cell_type": "code",
   "execution_count": 14,
   "metadata": {},
   "outputs": [
    {
     "name": "stdout",
     "output_type": "stream",
     "text": [
      "DRIVER    VOLUME NAME\n",
      "local     4eb953db80cb6e1b8240c2167eb9db355066e2258fa75de4419df0ba97a5e7c4\n",
      "local     21cc45598a8c02027856b7096b404dce495ab7e8d75a2df8fc328cbbdafa76a4\n",
      "local     62f18765e2f6d317e1813d832793bc97e87b1f1b3d5123ecdda3de547c8722fb\n",
      "local     964cf2d5e3bd73cf56c986f9d423efbd81c3eaf6230d4d8210a6e8b59078c64f\n",
      "local     991c8b8297a6021d785ab86bf73d1bfd94bd649029da6bbbe832a89b9e2ccca4\n",
      "local     c7f453343d5bcbf082dce73202bbb9c6d4c0019314fa65ae0a93ecdb1a726e3f\n",
      "local     completx_sql_neo4j-data\n",
      "local     d98de6d150397384f4f4b46bf95f8c35f8ddc1afc2320bdc49a86449eb1fea29\n",
      "local     hw-nosql_database-data\n",
      "local     mysql_dbeaver_mysql_volume\n",
      "local     myvolume\n",
      "local     springrest2_db\n",
      "local     springrest_db\n"
     ]
    }
   ],
   "source": [
    "!docker volume ls"
   ]
  },
  {
   "cell_type": "code",
   "execution_count": 13,
   "metadata": {},
   "outputs": [
    {
     "name": "stdout",
     "output_type": "stream",
     "text": [
      "big-data-eng_kafka_data\n"
     ]
    }
   ],
   "source": [
    "!docker volume rm big-data-eng_kafka_data"
   ]
  }
 ],
 "metadata": {
  "kernelspec": {
   "display_name": "Python 3",
   "language": "python",
   "name": "python3"
  },
  "language_info": {
   "codemirror_mode": {
    "name": "ipython",
    "version": 3
   },
   "file_extension": ".py",
   "mimetype": "text/x-python",
   "name": "python",
   "nbconvert_exporter": "python",
   "pygments_lexer": "ipython3",
   "version": "3.9.13"
  }
 },
 "nbformat": 4,
 "nbformat_minor": 2
}
